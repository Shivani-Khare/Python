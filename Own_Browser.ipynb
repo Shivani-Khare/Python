{
  "nbformat": 4,
  "nbformat_minor": 0,
  "metadata": {
    "colab": {
      "name": "Own_Browser.ipynb",
      "provenance": [],
      "authorship_tag": "ABX9TyN7jkNgT6XkdWzehY9d3ToO",
      "include_colab_link": true
    },
    "kernelspec": {
      "name": "python3",
      "display_name": "Python 3"
    },
    "language_info": {
      "name": "python"
    }
  },
  "cells": [
    {
      "cell_type": "markdown",
      "metadata": {
        "id": "view-in-github",
        "colab_type": "text"
      },
      "source": [
        "<a href=\"https://colab.research.google.com/github/Shivani-Khare/Py.now/blob/main/Own_Browser.ipynb\" target=\"_parent\"><img src=\"https://colab.research.google.com/assets/colab-badge.svg\" alt=\"Open In Colab\"/></a>"
      ]
    },
    {
      "cell_type": "code",
      "metadata": {
        "id": "oHcNNxMCEdRL"
      },
      "source": [
        "import sys  #imports system\n",
        "from PyQt5.QtCore import *\n",
        "from PyQt5.QtWidgets import *\n",
        "from PyQt5.QtWebEngineWidgets import *\n",
        "\n",
        "\n",
        "class Window(QMainWindow):\n",
        "    def __init__(self):\n",
        "        super(Window, self).__init__()\n",
        "        self.browser = QWebEngineView()  #function from where the browser will work\n",
        "        self.browser.setUrl(QUrl('http://google.com'))  #Building URL\n",
        "        self.setCentralWidget(self.browser)   #Contains features\n",
        "        self.showMaximized()\n",
        "\n",
        "        #Navigation Bar\n",
        "        navigation_bar = QToolBar()\n",
        "        self.addToolBar(navigation_bar)\n",
        "\n",
        "        #making buttons on browser\n",
        "        back_button = QAction('Back', self)  #defining action\n",
        "        back_button.triggered.connect(self.browser.back)  #connects to browser and apply the button\n",
        "        navigation_bar.addAction(back_button)  #setting the position of back button to navigation bar\n",
        "\n",
        "        forward_button = QAction('Forward', self)\n",
        "        forward_button.triggered.connect(self.browser.forward)\n",
        "        navigation_bar.addAction(forward_button)\n",
        "\n",
        "        reload_button = QAction('Reload', self)\n",
        "        reload_button.triggered.connect(self.browser.reload)\n",
        "        navigation_bar.addAction(reload_button)\n",
        "\n",
        "        home_button = QAction('Home', self)\n",
        "        home_button.triggered.connect(self.navigate_home)\n",
        "        navigation_bar.addAction(home_button)\n",
        "\n",
        "        self.url_bar = QLineEdit()\n",
        "        self.url_bar.returnPressed.connect(self.navigate_to_url)\n",
        "        navigation_bar.addWidget(self.url_bar)\n",
        "\n",
        "        self.browser.urlChanged.connect(self.update_url)\n",
        "\n",
        "    def navigate_home(self):  #setting home page\n",
        "        self.browser.setUrl(QUrl('http://google.com'))\n",
        "\n",
        "    def navigate_to_url(self):  #to search on browser\n",
        "        url = self.url_bar.text()\n",
        "        self.browser.setUrl(QUrl(url))\n",
        "\n",
        "    def update_url(self, q):  #updating url when webisites are switched.\n",
        "        self.url_bar.setText(q.toString())\n",
        "\n",
        "\n",
        "app = QApplication(sys.argv)  #indicates we are making own browser and opens in new window\n",
        "QApplication.setApplicationName('KHOJ')  #Giving Name\n",
        "main = Window()  #making object\n",
        "app.exec_()  #exe file for app. In app QApplication is present"
      ],
      "execution_count": null,
      "outputs": []
    }
  ]
}